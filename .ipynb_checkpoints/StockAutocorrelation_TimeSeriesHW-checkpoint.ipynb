{
 "cells": [
  {
   "cell_type": "markdown",
   "metadata": {},
   "source": [
    "### Module 10: Time Series (Zain Nasrullah)\n",
    "\n",
    "Investigating autocorrelation in stocks"
   ]
  },
  {
   "cell_type": "code",
   "execution_count": 4,
   "metadata": {},
   "outputs": [],
   "source": [
    "# Import Statements\n",
    "import pandas.io.data as web\n",
    "from pandas.tseries.offsets import Day, MonthEnd\n",
    "from datetime import datetime\n",
    "from datetime import timedelta\n",
    "from dateutil import relativedelta\n",
    "import pandas as pd\n",
    "import numpy as np\n",
    "import matplotlib.pyplot as plt\n",
    "%matplotlib inline\n",
    "pd.options.display.max_rows = 12\n",
    "np.set_printoptions(precision=4, suppress=True)\n",
    "plt.rc('figure', figsize=(4, 4))\n",
    "\n",
    "# Grab the data starting 60 months ago and ending at today's date\n",
    "now = datetime.now();\n",
    "Months60 = now - relativedelta.relativedelta(months=60)\n",
    "price = web.get_data_yahoo(['AAPL','BBRY', 'LULU', 'AMZN'], start=Months60, end = now)['Adj Close']\n",
    "\n",
    "# Resample daily data for business month\n",
    "price_month = price.resample('BM').last()"
   ]
  },
  {
   "cell_type": "markdown",
   "metadata": {},
   "source": [
    "Q: There does appear to be strong positive autocorrelation between all four of the stock prices and their respective historical values. This makes intuitive sense as previous stock prices may have a strong influence on current and future prices; that is, the market is sensitive to past and present conditions. Although all 4 graphs have similar shapes, there is some small variable in the autocorrelation plot especially around the peaks. "
   ]
  },
  {
   "cell_type": "code",
   "execution_count": 54,
   "metadata": {},
   "outputs": [
    {
     "data": {
      "text/html": [
       "<div>\n",
       "<table border=\"1\" class=\"dataframe\">\n",
       "  <thead>\n",
       "    <tr style=\"text-align: right;\">\n",
       "      <th></th>\n",
       "      <th>AAPL</th>\n",
       "      <th>AMZN</th>\n",
       "      <th>BBRY</th>\n",
       "      <th>LULU</th>\n",
       "    </tr>\n",
       "    <tr>\n",
       "      <th>Date</th>\n",
       "      <th></th>\n",
       "      <th></th>\n",
       "      <th></th>\n",
       "      <th></th>\n",
       "    </tr>\n",
       "  </thead>\n",
       "  <tbody>\n",
       "    <tr>\n",
       "      <th>2012-04-30</th>\n",
       "      <td>75.660185</td>\n",
       "      <td>231.899994</td>\n",
       "      <td>14.30</td>\n",
       "      <td>74.139999</td>\n",
       "    </tr>\n",
       "    <tr>\n",
       "      <th>2012-05-31</th>\n",
       "      <td>74.850442</td>\n",
       "      <td>212.910004</td>\n",
       "      <td>10.33</td>\n",
       "      <td>72.639999</td>\n",
       "    </tr>\n",
       "    <tr>\n",
       "      <th>2012-06-29</th>\n",
       "      <td>75.662780</td>\n",
       "      <td>228.350006</td>\n",
       "      <td>7.39</td>\n",
       "      <td>59.630001</td>\n",
       "    </tr>\n",
       "    <tr>\n",
       "      <th>2012-07-31</th>\n",
       "      <td>79.129790</td>\n",
       "      <td>233.300003</td>\n",
       "      <td>7.15</td>\n",
       "      <td>56.480000</td>\n",
       "    </tr>\n",
       "    <tr>\n",
       "      <th>2012-08-31</th>\n",
       "      <td>86.558246</td>\n",
       "      <td>248.270004</td>\n",
       "      <td>6.69</td>\n",
       "      <td>65.190002</td>\n",
       "    </tr>\n",
       "    <tr>\n",
       "      <th>2012-09-28</th>\n",
       "      <td>86.800263</td>\n",
       "      <td>254.320007</td>\n",
       "      <td>7.50</td>\n",
       "      <td>73.940002</td>\n",
       "    </tr>\n",
       "    <tr>\n",
       "      <th>...</th>\n",
       "      <td>...</td>\n",
       "      <td>...</td>\n",
       "      <td>...</td>\n",
       "      <td>...</td>\n",
       "    </tr>\n",
       "    <tr>\n",
       "      <th>2016-10-31</th>\n",
       "      <td>112.472406</td>\n",
       "      <td>789.820007</td>\n",
       "      <td>7.05</td>\n",
       "      <td>57.250000</td>\n",
       "    </tr>\n",
       "    <tr>\n",
       "      <th>2016-11-30</th>\n",
       "      <td>110.042897</td>\n",
       "      <td>750.570007</td>\n",
       "      <td>7.71</td>\n",
       "      <td>56.990002</td>\n",
       "    </tr>\n",
       "    <tr>\n",
       "      <th>2016-12-30</th>\n",
       "      <td>115.320020</td>\n",
       "      <td>749.869995</td>\n",
       "      <td>6.89</td>\n",
       "      <td>64.989998</td>\n",
       "    </tr>\n",
       "    <tr>\n",
       "      <th>2017-01-31</th>\n",
       "      <td>120.826147</td>\n",
       "      <td>823.479980</td>\n",
       "      <td>7.06</td>\n",
       "      <td>67.510002</td>\n",
       "    </tr>\n",
       "    <tr>\n",
       "      <th>2017-02-28</th>\n",
       "      <td>136.990005</td>\n",
       "      <td>845.039978</td>\n",
       "      <td>6.96</td>\n",
       "      <td>65.260002</td>\n",
       "    </tr>\n",
       "    <tr>\n",
       "      <th>2017-03-31</th>\n",
       "      <td>143.660004</td>\n",
       "      <td>886.539978</td>\n",
       "      <td>7.75</td>\n",
       "      <td>51.869999</td>\n",
       "    </tr>\n",
       "  </tbody>\n",
       "</table>\n",
       "<p>60 rows × 4 columns</p>\n",
       "</div>"
      ],
      "text/plain": [
       "                  AAPL        AMZN   BBRY       LULU\n",
       "Date                                                \n",
       "2012-04-30   75.660185  231.899994  14.30  74.139999\n",
       "2012-05-31   74.850442  212.910004  10.33  72.639999\n",
       "2012-06-29   75.662780  228.350006   7.39  59.630001\n",
       "2012-07-31   79.129790  233.300003   7.15  56.480000\n",
       "2012-08-31   86.558246  248.270004   6.69  65.190002\n",
       "2012-09-28   86.800263  254.320007   7.50  73.940002\n",
       "...                ...         ...    ...        ...\n",
       "2016-10-31  112.472406  789.820007   7.05  57.250000\n",
       "2016-11-30  110.042897  750.570007   7.71  56.990002\n",
       "2016-12-30  115.320020  749.869995   6.89  64.989998\n",
       "2017-01-31  120.826147  823.479980   7.06  67.510002\n",
       "2017-02-28  136.990005  845.039978   6.96  65.260002\n",
       "2017-03-31  143.660004  886.539978   7.75  51.869999\n",
       "\n",
       "[60 rows x 4 columns]"
      ]
     },
     "execution_count": 54,
     "metadata": {},
     "output_type": "execute_result"
    }
   ],
   "source": [
    "# View monthly stock prices\n",
    "price_month"
   ]
  },
  {
   "cell_type": "code",
   "execution_count": 55,
   "metadata": {},
   "outputs": [
    {
     "data": {
      "image/png": "[encoded data removed]",
      "text/plain": [
       "<matplotlib.figure.Figure at 0xaaa7ba8>"
      ]
     },
     "metadata": {},
     "output_type": "display_data"
    }
   ],
   "source": [
    "# AAPL\n",
    "plt.acorr(price_month[price_month.columns[0]],maxlags=None);"
   ]
  },
  {
   "cell_type": "code",
   "execution_count": 56,
   "metadata": {},
   "outputs": [
    {
     "data": {
      "image/png": "[encoded data removed]",
      "text/plain": [
       "<matplotlib.figure.Figure at 0x959d710>"
      ]
     },
     "metadata": {},
     "output_type": "display_data"
    }
   ],
   "source": [
    "# AMZN \n",
    "plt.acorr(price_month[price_month.columns[1]],maxlags=None);"
   ]
  },
  {
   "cell_type": "code",
   "execution_count": 57,
   "metadata": {},
   "outputs": [
    {
     "data": {
      "image/png": "[encoded data removed]",
      "text/plain": [
       "<matplotlib.figure.Figure at 0xabb8048>"
      ]
     },
     "metadata": {},
     "output_type": "display_data"
    }
   ],
   "source": [
    "# BBRY\n",
    "plt.acorr(price_month[price_month.columns[2]],maxlags=None);"
   ]
  },
  {
   "cell_type": "code",
   "execution_count": 58,
   "metadata": {},
   "outputs": [
    {
     "data": {
      "image/png": "[encoded data removed]",
      "text/plain": [
       "<matplotlib.figure.Figure at 0xaf8c0f0>"
      ]
     },
     "metadata": {},
     "output_type": "display_data"
    }
   ],
   "source": [
    "# LULU\n",
    "plt.acorr(price_month[price_month.columns[3]],maxlags=None);"
   ]
  },
  {
   "cell_type": "code",
   "execution_count": 7,
   "metadata": {},
   "outputs": [],
   "source": [
    " # Find the monthly return over the period using the shifting trick\n",
    "ret_price_month = (price_month / price_month.shift(periods=-1) - 1)"
   ]
  },
  {
   "cell_type": "code",
   "execution_count": 8,
   "metadata": {},
   "outputs": [
    {
     "data": {
      "text/html": [
       "<div>\n",
       "<table border=\"1\" class=\"dataframe\">\n",
       "  <thead>\n",
       "    <tr style=\"text-align: right;\">\n",
       "      <th></th>\n",
       "      <th>AAPL</th>\n",
       "      <th>AMZN</th>\n",
       "      <th>BBRY</th>\n",
       "      <th>LULU</th>\n",
       "    </tr>\n",
       "    <tr>\n",
       "      <th>Date</th>\n",
       "      <th></th>\n",
       "      <th></th>\n",
       "      <th></th>\n",
       "      <th></th>\n",
       "    </tr>\n",
       "  </thead>\n",
       "  <tbody>\n",
       "    <tr>\n",
       "      <th>2012-04-30</th>\n",
       "      <td>0.010818</td>\n",
       "      <td>0.089193</td>\n",
       "      <td>0.384318</td>\n",
       "      <td>0.020650</td>\n",
       "    </tr>\n",
       "    <tr>\n",
       "      <th>2012-05-31</th>\n",
       "      <td>-0.010736</td>\n",
       "      <td>-0.067616</td>\n",
       "      <td>0.397835</td>\n",
       "      <td>0.218179</td>\n",
       "    </tr>\n",
       "    <tr>\n",
       "      <th>2012-06-29</th>\n",
       "      <td>-0.043814</td>\n",
       "      <td>-0.021217</td>\n",
       "      <td>0.033566</td>\n",
       "      <td>0.055772</td>\n",
       "    </tr>\n",
       "    <tr>\n",
       "      <th>2012-07-31</th>\n",
       "      <td>-0.085820</td>\n",
       "      <td>-0.060297</td>\n",
       "      <td>0.068759</td>\n",
       "      <td>-0.133609</td>\n",
       "    </tr>\n",
       "    <tr>\n",
       "      <th>2012-08-31</th>\n",
       "      <td>-0.002788</td>\n",
       "      <td>-0.023789</td>\n",
       "      <td>-0.108000</td>\n",
       "      <td>-0.118339</td>\n",
       "    </tr>\n",
       "    <tr>\n",
       "      <th>2012-09-28</th>\n",
       "      <td>0.120574</td>\n",
       "      <td>0.092018</td>\n",
       "      <td>-0.054224</td>\n",
       "      <td>0.074085</td>\n",
       "    </tr>\n",
       "    <tr>\n",
       "      <th>...</th>\n",
       "      <td>...</td>\n",
       "      <td>...</td>\n",
       "      <td>...</td>\n",
       "      <td>...</td>\n",
       "    </tr>\n",
       "    <tr>\n",
       "      <th>2016-11-30</th>\n",
       "      <td>-0.045761</td>\n",
       "      <td>0.000934</td>\n",
       "      <td>0.119013</td>\n",
       "      <td>-0.123096</td>\n",
       "    </tr>\n",
       "    <tr>\n",
       "      <th>2016-12-30</th>\n",
       "      <td>-0.045571</td>\n",
       "      <td>-0.089389</td>\n",
       "      <td>-0.024079</td>\n",
       "      <td>-0.037328</td>\n",
       "    </tr>\n",
       "    <tr>\n",
       "      <th>2017-01-31</th>\n",
       "      <td>-0.117993</td>\n",
       "      <td>-0.025514</td>\n",
       "      <td>0.014368</td>\n",
       "      <td>0.034477</td>\n",
       "    </tr>\n",
       "    <tr>\n",
       "      <th>2017-02-28</th>\n",
       "      <td>-0.046429</td>\n",
       "      <td>-0.046811</td>\n",
       "      <td>-0.101935</td>\n",
       "      <td>0.258145</td>\n",
       "    </tr>\n",
       "    <tr>\n",
       "      <th>2017-03-31</th>\n",
       "      <td>0.002233</td>\n",
       "      <td>-0.009320</td>\n",
       "      <td>-0.007682</td>\n",
       "      <td>0.024491</td>\n",
       "    </tr>\n",
       "    <tr>\n",
       "      <th>2017-04-28</th>\n",
       "      <td>NaN</td>\n",
       "      <td>NaN</td>\n",
       "      <td>NaN</td>\n",
       "      <td>NaN</td>\n",
       "    </tr>\n",
       "  </tbody>\n",
       "</table>\n",
       "<p>61 rows × 4 columns</p>\n",
       "</div>"
      ],
      "text/plain": [
       "                AAPL      AMZN      BBRY      LULU\n",
       "Date                                              \n",
       "2012-04-30  0.010818  0.089193  0.384318  0.020650\n",
       "2012-05-31 -0.010736 -0.067616  0.397835  0.218179\n",
       "2012-06-29 -0.043814 -0.021217  0.033566  0.055772\n",
       "2012-07-31 -0.085820 -0.060297  0.068759 -0.133609\n",
       "2012-08-31 -0.002788 -0.023789 -0.108000 -0.118339\n",
       "2012-09-28  0.120574  0.092018 -0.054224  0.074085\n",
       "...              ...       ...       ...       ...\n",
       "2016-11-30 -0.045761  0.000934  0.119013 -0.123096\n",
       "2016-12-30 -0.045571 -0.089389 -0.024079 -0.037328\n",
       "2017-01-31 -0.117993 -0.025514  0.014368  0.034477\n",
       "2017-02-28 -0.046429 -0.046811 -0.101935  0.258145\n",
       "2017-03-31  0.002233 -0.009320 -0.007682  0.024491\n",
       "2017-04-28       NaN       NaN       NaN       NaN\n",
       "\n",
       "[61 rows x 4 columns]"
      ]
     },
     "execution_count": 8,
     "metadata": {},
     "output_type": "execute_result"
    }
   ],
   "source": [
    "# View monthly return data\n",
    "ret_price_month"
   ]
  },
  {
   "cell_type": "code",
   "execution_count": 85,
   "metadata": {},
   "outputs": [
    {
     "data": {
      "text/html": [
       "<div>\n",
       "<table border=\"1\" class=\"dataframe\">\n",
       "  <thead>\n",
       "    <tr style=\"text-align: right;\">\n",
       "      <th></th>\n",
       "      <th>AAPL</th>\n",
       "      <th>AMZN</th>\n",
       "      <th>BBRY</th>\n",
       "      <th>LULU</th>\n",
       "    </tr>\n",
       "    <tr>\n",
       "      <th>Date</th>\n",
       "      <th></th>\n",
       "      <th></th>\n",
       "      <th></th>\n",
       "      <th></th>\n",
       "    </tr>\n",
       "  </thead>\n",
       "  <tbody>\n",
       "    <tr>\n",
       "      <th>2012-05-31</th>\n",
       "      <td>-0.010702</td>\n",
       "      <td>-0.081889</td>\n",
       "      <td>-0.277622</td>\n",
       "      <td>-0.020232</td>\n",
       "    </tr>\n",
       "    <tr>\n",
       "      <th>2012-06-29</th>\n",
       "      <td>0.010853</td>\n",
       "      <td>0.072519</td>\n",
       "      <td>-0.284608</td>\n",
       "      <td>-0.179102</td>\n",
       "    </tr>\n",
       "    <tr>\n",
       "      <th>2012-07-31</th>\n",
       "      <td>0.045822</td>\n",
       "      <td>0.021677</td>\n",
       "      <td>-0.032476</td>\n",
       "      <td>-0.052826</td>\n",
       "    </tr>\n",
       "    <tr>\n",
       "      <th>2012-08-31</th>\n",
       "      <td>0.093877</td>\n",
       "      <td>0.064166</td>\n",
       "      <td>-0.064336</td>\n",
       "      <td>0.154214</td>\n",
       "    </tr>\n",
       "    <tr>\n",
       "      <th>2012-09-28</th>\n",
       "      <td>0.002796</td>\n",
       "      <td>0.024369</td>\n",
       "      <td>0.121076</td>\n",
       "      <td>0.134223</td>\n",
       "    </tr>\n",
       "    <tr>\n",
       "      <th>2012-10-31</th>\n",
       "      <td>-0.107600</td>\n",
       "      <td>-0.084264</td>\n",
       "      <td>0.057333</td>\n",
       "      <td>-0.068975</td>\n",
       "    </tr>\n",
       "    <tr>\n",
       "      <th>...</th>\n",
       "      <td>...</td>\n",
       "      <td>...</td>\n",
       "      <td>...</td>\n",
       "      <td>...</td>\n",
       "    </tr>\n",
       "    <tr>\n",
       "      <th>2016-10-31</th>\n",
       "      <td>0.004334</td>\n",
       "      <td>-0.056717</td>\n",
       "      <td>-0.116541</td>\n",
       "      <td>-0.061168</td>\n",
       "    </tr>\n",
       "    <tr>\n",
       "      <th>2016-11-30</th>\n",
       "      <td>-0.021601</td>\n",
       "      <td>-0.049695</td>\n",
       "      <td>0.093617</td>\n",
       "      <td>-0.004541</td>\n",
       "    </tr>\n",
       "    <tr>\n",
       "      <th>2016-12-30</th>\n",
       "      <td>0.047955</td>\n",
       "      <td>-0.000933</td>\n",
       "      <td>-0.106355</td>\n",
       "      <td>0.140375</td>\n",
       "    </tr>\n",
       "    <tr>\n",
       "      <th>2017-01-31</th>\n",
       "      <td>0.047746</td>\n",
       "      <td>0.098164</td>\n",
       "      <td>0.024673</td>\n",
       "      <td>0.038775</td>\n",
       "    </tr>\n",
       "    <tr>\n",
       "      <th>2017-02-28</th>\n",
       "      <td>0.133778</td>\n",
       "      <td>0.026182</td>\n",
       "      <td>-0.014164</td>\n",
       "      <td>-0.033328</td>\n",
       "    </tr>\n",
       "    <tr>\n",
       "      <th>2017-03-31</th>\n",
       "      <td>0.048690</td>\n",
       "      <td>0.049110</td>\n",
       "      <td>0.113506</td>\n",
       "      <td>-0.205179</td>\n",
       "    </tr>\n",
       "  </tbody>\n",
       "</table>\n",
       "<p>59 rows × 4 columns</p>\n",
       "</div>"
      ],
      "text/plain": [
       "                AAPL      AMZN      BBRY      LULU\n",
       "Date                                              \n",
       "2012-05-31 -0.010702 -0.081889 -0.277622 -0.020232\n",
       "2012-06-29  0.010853  0.072519 -0.284608 -0.179102\n",
       "2012-07-31  0.045822  0.021677 -0.032476 -0.052826\n",
       "2012-08-31  0.093877  0.064166 -0.064336  0.154214\n",
       "2012-09-28  0.002796  0.024369  0.121076  0.134223\n",
       "2012-10-31 -0.107600 -0.084264  0.057333 -0.068975\n",
       "...              ...       ...       ...       ...\n",
       "2016-10-31  0.004334 -0.056717 -0.116541 -0.061168\n",
       "2016-11-30 -0.021601 -0.049695  0.093617 -0.004541\n",
       "2016-12-30  0.047955 -0.000933 -0.106355  0.140375\n",
       "2017-01-31  0.047746  0.098164  0.024673  0.038775\n",
       "2017-02-28  0.133778  0.026182 -0.014164 -0.033328\n",
       "2017-03-31  0.048690  0.049110  0.113506 -0.205179\n",
       "\n",
       "[59 rows x 4 columns]"
      ]
     },
     "execution_count": 85,
     "metadata": {},
     "output_type": "execute_result"
    }
   ],
   "source": [
    "# Drop the NaN row, can't have any return on the first month (as that's the starting reference, there's no prior data)\n",
    "ret_price_month = ret_price_month.dropna()\n",
    "ret_price_month"
   ]
  },
  {
   "cell_type": "markdown",
   "metadata": {},
   "source": [
    "Q: The return on stocks do not demonstrate much autocorrelation with their historical values for all 4 of the stocks analyzed. This implies that return does not necessarily have a dependance on historical returns. This also seems to make intuitive sense as we would only see large positive autocorrelation for stocks that are rising quickly or demonstrating momentum in their return. It is not necessarily the case that return will have dependence on previous returns."
   ]
  },
  {
   "cell_type": "code",
   "execution_count": 86,
   "metadata": {},
   "outputs": [
    {
     "data": {
      "image/png": "[encoded data removed]",
      "text/plain": [
       "<matplotlib.figure.Figure at 0xac48a20>"
      ]
     },
     "metadata": {},
     "output_type": "display_data"
    }
   ],
   "source": [
    "# Find the autocorrelation AAPL\n",
    "plt.acorr(ret_price_month[ret_price_month.columns[0]]);"
   ]
  },
  {
   "cell_type": "code",
   "execution_count": 87,
   "metadata": {},
   "outputs": [
    {
     "data": {
      "image/png": "[encoded data removed]",
      "text/plain": [
       "<matplotlib.figure.Figure at 0xaefa518>"
      ]
     },
     "metadata": {},
     "output_type": "display_data"
    }
   ],
   "source": [
    "# Return Autocorrelation AMZN\n",
    "plt.acorr(ret_price_month[ret_price_month.columns[1]]);"
   ]
  },
  {
   "cell_type": "code",
   "execution_count": 88,
   "metadata": {},
   "outputs": [
    {
     "data": {
      "image/png": "[encoded data removed]",
      "text/plain": [
       "<matplotlib.figure.Figure at 0xaa54f28>"
      ]
     },
     "metadata": {},
     "output_type": "display_data"
    }
   ],
   "source": [
    "# Return Autocorrelation BBRY\n",
    "plt.acorr(ret_price_month[ret_price_month.columns[2]]);"
   ]
  },
  {
   "cell_type": "code",
   "execution_count": 89,
   "metadata": {
    "scrolled": true
   },
   "outputs": [
    {
     "data": {
      "image/png": "[encoded data removed]",
      "text/plain": [
       "<matplotlib.figure.Figure at 0xaac2d30>"
      ]
     },
     "metadata": {},
     "output_type": "display_data"
    }
   ],
   "source": [
    "# Return Autocorrelation LULU\n",
    "plt.acorr(ret_price_month[ret_price_month.columns[3]]);"
   ]
  }
 ],
 "metadata": {
  "anaconda-cloud": {},
  "kernelspec": {
   "display_name": "Python 3",
   "language": "python",
   "name": "python3"
  },
  "language_info": {
   "codemirror_mode": {
    "name": "ipython",
    "version": 3
   },
   "file_extension": ".py",
   "mimetype": "text/x-python",
   "name": "python",
   "nbconvert_exporter": "python",
   "pygments_lexer": "ipython3",
   "version": "3.6.1"
  }
 },
 "nbformat": 4,
 "nbformat_minor": 1
}
