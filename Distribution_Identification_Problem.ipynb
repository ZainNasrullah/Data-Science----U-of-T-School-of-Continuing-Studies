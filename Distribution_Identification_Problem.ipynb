{
 "cells": [
  {
   "cell_type": "markdown",
   "metadata": {},
   "source": [
    "# Determining the Distribution given an input\n",
    "## By Zain Nasrullah\n",
    "\n",
    "The code below is derived from a combination of the following:\n",
    "1) https://stackoverflow.com/questions/6620471/fitting-empirical-distribution-to-theoretical-ones-with-scipy-python\n",
    "2) http://www.aizac.info/simple-check-of-a-sample-against-80-distributions/\n",
    "\n",
    "High-Level Steps\n",
    "a) Fit the distribution\n",
    "b) Find SSE to test the goodness of the fit\n",
    "c) Track which distribution minimized SSE\n"
   ]
  },
  {
   "cell_type": "markdown",
   "metadata": {},
   "source": [
    "# Find Distribution Function"
   ]
  },
  {
   "cell_type": "code",
   "execution_count": 16,
   "metadata": {},
   "outputs": [],
   "source": [
    "# Import Statements\n",
    "import warnings\n",
    "import numpy as np\n",
    "import pandas as pd\n",
    "import scipy.stats as st\n",
    "import statsmodels as sm\n",
    "import matplotlib\n",
    "import matplotlib.pyplot as plt\n",
    "%matplotlib inline\n",
    "\n",
    "# Defining the function where the sample data will be passed in\n",
    "def findDistribution (sample):\n",
    "    \n",
    "    # Create a distribution of the data which will be used to\n",
    "    # calculate the sum of squared error. \n",
    "    y, x = np.histogram(sample, density=True)\n",
    "    x = (x + np.roll(x, -1))[:-1] / 2.0\n",
    "    \n",
    "    # These variables will maintain what the best fit is as we iterate\n",
    "    best_distribution = st.norm\n",
    "    best_params = (0.0, 1.0)\n",
    "    best_sse = np.inf\n",
    "    best_KS = st.norm\n",
    "    best_D = np.inf\n",
    "    \n",
    "    # A list of the continuous probability distributions to test against\n",
    "    cdfs = ['norm','uniform','logistic', 'chi2','beta','gamma']\n",
    "    \n",
    "    print(\"KS test results are:\")\n",
    "    \n",
    "    # Iterate through each of the distributions\n",
    "    for cdf in cdfs:\n",
    "        \n",
    "        # Use this line to disable the warnings when the data can't be fit\n",
    "        with warnings.catch_warnings():\n",
    "            warnings.filterwarnings('ignore')\n",
    "        \n",
    "            # fit our data set against every probability distribution\n",
    "            parameters = eval(\"scipy.stats.\"+cdf+\".fit(sample)\");\n",
    "            arg = parameters[:-2]\n",
    "            loc = parameters[-2]\n",
    "            scale = parameters[-1]\n",
    "\n",
    "            # We will use our model parameters from the fit to find the probability density function\n",
    "            pdf = eval(\"scipy.stats.\"+cdf+\".pdf(x,loc=loc, scale = scale, *arg)\")\n",
    "            sse = np.sum(np.power(y - pdf, 2.0))\n",
    "\n",
    "            # Apply the Kolmogorov-Smirnof one sided test\n",
    "            D, p = scipy.stats.kstest(sample, cdf, args=parameters);\n",
    "\n",
    "            # pretty-print the results, will not use this as part of algorithm but\n",
    "            # rather for validation \n",
    "            print (cdf.ljust(16) + (\"p: \"+str(p)).ljust(25)+\"D: \"+str(D));\n",
    "\n",
    "            # compare current distribution against the past best distribution\n",
    "            if best_sse > sse > 0:\n",
    "                best_distribution = eval(\"st.\"+cdf)\n",
    "                best_params = parameters\n",
    "                best_sse = sse\n",
    "            \n",
    "            if best_D > D > 0:\n",
    "                best_KS = cdf\n",
    "                best_D = D\n",
    "                  \n",
    "    # return results when done\n",
    "    return best_distribution.name, best_params, best_KS"
   ]
  },
  {
   "cell_type": "markdown",
   "metadata": {},
   "source": [
    "# Testing with a Random Normal Sample"
   ]
  },
  {
   "cell_type": "code",
   "execution_count": 17,
   "metadata": {},
   "outputs": [
    {
     "name": "stdout",
     "output_type": "stream",
     "text": [
      "The actual distribution is norm\n",
      "\n",
      "KS test results are:\n",
      "norm            p: 0.695025349462        D: 0.0317389471938\n",
      "uniform         p: 3.52162743411e-13     D: 0.170515881604\n",
      "logistic        p: 0.72306692198         D: 0.03098616413\n",
      "chi2            p: 0.0                   D: 0.609562844444\n",
      "beta            p: 0.644796785819        D: 0.0333162701989\n",
      "gamma           p: 0.608872008726        D: 0.0341575202992\n",
      "The KS test found the best distribution as logistic\n",
      "\n",
      "Minizing SSE found the best distribution as norm with parameters (-0.011170407085515683, 0.95738698668165312)\n"
     ]
    }
   ],
   "source": [
    "# Generate sample data from the normal distribution to work with\n",
    "sample = scipy.stats.norm(0,1).rvs(500)\n",
    "print(\"The actual distribution is norm\\n\")\n",
    "\n",
    "# Run the algorithm and then print the results\n",
    "best_dist_name, best_parameters, best_KS = findDistribution(sample)\n",
    "print(\"The KS test found the best distribution as \" + str(best_KS))\n",
    "print(\"\\nMinizing SSE found the best distribution as \" + str(best_dist_name) + \" with parameters \" + str(best_parameters))"
   ]
  },
  {
   "cell_type": "markdown",
   "metadata": {},
   "source": [
    "If you run the test above several times, one can observe that the result changes based on the random sample. In most cases, both the KS-test and minimizing the SSE fail to determine the correct distribution. More on this in the conclusion. "
   ]
  },
  {
   "cell_type": "markdown",
   "metadata": {},
   "source": [
    "# Plotting the Best-Fit PDF"
   ]
  },
  {
   "cell_type": "code",
   "execution_count": 18,
   "metadata": {},
   "outputs": [
    {
     "data": {
      "image/png": "[encoded data removed]",
      "text/plain": [
       "<matplotlib.figure.Figure at 0x1e6b870b860>"
      ]
     },
     "metadata": {},
     "output_type": "display_data"
    }
   ],
   "source": [
    "# Plotting the data below.\n",
    "#The code in this cell is taken entirely from the Stack Overflow link. \n",
    "def make_pdf(dist, params, size=10000):\n",
    "    \"\"\"Generate distributions's Propbability Distribution Function \"\"\"\n",
    "\n",
    "    # Separate parts of parameters\n",
    "    arg = params[:-2]\n",
    "    loc = params[-2]\n",
    "    scale = params[-1]\n",
    "\n",
    "    # Get sane start and end points of distribution\n",
    "    start = dist.ppf(0.01, *arg, loc=loc, scale=scale) if arg else dist.ppf(0.01, loc=loc, scale=scale)\n",
    "    end = dist.ppf(0.99, *arg, loc=loc, scale=scale) if arg else dist.ppf(0.99, loc=loc, scale=scale)\n",
    "\n",
    "    # Build PDF and turn into pandas Series\n",
    "    x = np.linspace(start, end, size)\n",
    "    y = dist.pdf(x, loc=loc, scale=scale, *arg)\n",
    "    pdf = pd.Series(y, x)\n",
    "    \n",
    "    return pdf, x\n",
    "\n",
    "data = pd.DataFrame(sample)\n",
    "\n",
    "# Find best fit distribution\n",
    "best_dist = getattr(st, best_dist_name)\n",
    "\n",
    "# Make PDF\n",
    "pdf, rv = make_pdf(best_dist, best_parameters)\n",
    "\n",
    "# Display\n",
    "plt.figure(figsize=(12,8))\n",
    "ax = pdf.plot(lw=2, label='PDF', legend=True)\n",
    "data.plot(kind='hist', bins=50, normed = True, alpha=0.5, label='Data', legend=True, ax=ax)\n",
    "ax.legend([\"PDF\", \"Original Data\"])\n",
    "\n",
    "param_names = (best_dist.shapes + ', loc, scale').split(', ') if best_dist.shapes else ['loc', 'scale']\n",
    "param_str = ', '.join(['{}={:0.2f}'.format(k,v) for k,v in zip(param_names, best_parameters)])\n",
    "dist_str = '{}({})'.format(best_dist_name, param_str)\n",
    "\n",
    "ax.set_title(u'Sample Data with Best Fit Distribution\\n' + dist_str)\n",
    "ax.set_xlabel(u'x data')\n",
    "ax.set_ylabel('Frequency')\n",
    "plt.show()"
   ]
  },
  {
   "cell_type": "markdown",
   "metadata": {},
   "source": [
    "# Summary Statistics"
   ]
  },
  {
   "cell_type": "code",
   "execution_count": 22,
   "metadata": {},
   "outputs": [
    {
     "data": {
      "text/html": [
       "<div>\n",
       "<table border=\"1\" class=\"dataframe\">\n",
       "  <thead>\n",
       "    <tr style=\"text-align: right;\">\n",
       "      <th></th>\n",
       "      <th>0</th>\n",
       "    </tr>\n",
       "  </thead>\n",
       "  <tbody>\n",
       "    <tr>\n",
       "      <th>count</th>\n",
       "      <td>500.000000</td>\n",
       "    </tr>\n",
       "    <tr>\n",
       "      <th>mean</th>\n",
       "      <td>-0.011170</td>\n",
       "    </tr>\n",
       "    <tr>\n",
       "      <th>std</th>\n",
       "      <td>0.958346</td>\n",
       "    </tr>\n",
       "    <tr>\n",
       "      <th>min</th>\n",
       "      <td>-2.616080</td>\n",
       "    </tr>\n",
       "    <tr>\n",
       "      <th>25%</th>\n",
       "      <td>-0.658856</td>\n",
       "    </tr>\n",
       "    <tr>\n",
       "      <th>50%</th>\n",
       "      <td>-0.004011</td>\n",
       "    </tr>\n",
       "    <tr>\n",
       "      <th>75%</th>\n",
       "      <td>0.610660</td>\n",
       "    </tr>\n",
       "    <tr>\n",
       "      <th>max</th>\n",
       "      <td>2.641511</td>\n",
       "    </tr>\n",
       "  </tbody>\n",
       "</table>\n",
       "</div>"
      ],
      "text/plain": [
       "                0\n",
       "count  500.000000\n",
       "mean    -0.011170\n",
       "std      0.958346\n",
       "min     -2.616080\n",
       "25%     -0.658856\n",
       "50%     -0.004011\n",
       "75%      0.610660\n",
       "max      2.641511"
      ]
     },
     "execution_count": 22,
     "metadata": {},
     "output_type": "execute_result"
    }
   ],
   "source": [
    "# Summary Statistics for the original data\n",
    "data.describe()"
   ]
  },
  {
   "cell_type": "code",
   "execution_count": 23,
   "metadata": {},
   "outputs": [
    {
     "data": {
      "text/html": [
       "<div>\n",
       "<table border=\"1\" class=\"dataframe\">\n",
       "  <thead>\n",
       "    <tr style=\"text-align: right;\">\n",
       "      <th></th>\n",
       "      <th>0</th>\n",
       "    </tr>\n",
       "  </thead>\n",
       "  <tbody>\n",
       "    <tr>\n",
       "      <th>count</th>\n",
       "      <td>10000.000000</td>\n",
       "    </tr>\n",
       "    <tr>\n",
       "      <th>mean</th>\n",
       "      <td>-0.011170</td>\n",
       "    </tr>\n",
       "    <tr>\n",
       "      <th>std</th>\n",
       "      <td>1.286076</td>\n",
       "    </tr>\n",
       "    <tr>\n",
       "      <th>min</th>\n",
       "      <td>-2.238386</td>\n",
       "    </tr>\n",
       "    <tr>\n",
       "      <th>25%</th>\n",
       "      <td>-1.124778</td>\n",
       "    </tr>\n",
       "    <tr>\n",
       "      <th>50%</th>\n",
       "      <td>-0.011170</td>\n",
       "    </tr>\n",
       "    <tr>\n",
       "      <th>75%</th>\n",
       "      <td>1.102437</td>\n",
       "    </tr>\n",
       "    <tr>\n",
       "      <th>max</th>\n",
       "      <td>2.216045</td>\n",
       "    </tr>\n",
       "  </tbody>\n",
       "</table>\n",
       "</div>"
      ],
      "text/plain": [
       "                  0\n",
       "count  10000.000000\n",
       "mean      -0.011170\n",
       "std        1.286076\n",
       "min       -2.238386\n",
       "25%       -1.124778\n",
       "50%       -0.011170\n",
       "75%        1.102437\n",
       "max        2.216045"
      ]
     },
     "execution_count": 23,
     "metadata": {},
     "output_type": "execute_result"
    }
   ],
   "source": [
    "# Summary statistics for the generated PDF with given parameters\n",
    "stats_series = pd.DataFrame(rv)\n",
    "stats_series.describe()"
   ]
  },
  {
   "cell_type": "markdown",
   "metadata": {},
   "source": [
    "# Conclusion"
   ]
  },
  {
   "cell_type": "markdown",
   "metadata": {},
   "source": [
    "From the stats above, it seems that the model is a fairly accurate representation of the data even if using the wrong probability distribution. This is because the process used to determine the correct model involved fitting and minimizing square error, so even a potentially incorrect model may possess the right parameters to describe the data. This is a bit concerning and an important reminder that one cannot simply point to a single distribution that fits the data; however, we can identify which distributions are poor fits. The summary statistics (mean, std, min, max), irrespective of whether the final model is correct, are also all within in a reasonable range of the actual data.\n",
    "\n",
    "In terms of computational efficiency, since we are manually fitting and then testing each distribution (brute force) for minimal SSE, one cannot say that this is an efficient process. For large data-sets where we must test many distributions, this may not be a practical option. There should be some way, either during the iterations or as pre-processing work, to limit the scope of how many distributions we need to test. For example, if two distributions are similar, and one very poorly fit the data-- then it is likely that a similar model will also be a poor match."
   ]
  }
 ],
 "metadata": {
  "anaconda-cloud": {},
  "celltoolbar": "Raw Cell Format",
  "kernelspec": {
   "display_name": "Python 3",
   "language": "python",
   "name": "python3"
  },
  "language_info": {
   "codemirror_mode": {
    "name": "ipython",
    "version": 3
   },
   "file_extension": ".py",
   "mimetype": "text/x-python",
   "name": "python",
   "nbconvert_exporter": "python",
   "pygments_lexer": "ipython3",
   "version": "3.6.1"
  }
 },
 "nbformat": 4,
 "nbformat_minor": 1
}
