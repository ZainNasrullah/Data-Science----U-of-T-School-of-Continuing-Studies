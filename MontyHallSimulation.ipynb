{
 "cells": [
  {
   "cell_type": "code",
   "execution_count": null,
   "metadata": {
    "collapsed": true
   },
   "outputs": [],
   "source": [
    "# Monty Hall Simulation by Zain Nasrullah"
   ]
  },
  {
   "cell_type": "code",
   "execution_count": 1,
   "metadata": {},
   "outputs": [
    {
     "name": "stdout",
     "output_type": "stream",
     "text": [
      "Selected Door: 1\n",
      "Revealed Door: 3\n",
      "Remaining Door: 2\n"
     ]
    },
    {
     "data": {
      "text/html": [
       "<div>\n",
       "<table border=\"1\" class=\"dataframe\">\n",
       "  <thead>\n",
       "    <tr style=\"text-align: right;\">\n",
       "      <th></th>\n",
       "      <th>Door</th>\n",
       "      <th>Reward</th>\n",
       "    </tr>\n",
       "  </thead>\n",
       "  <tbody>\n",
       "    <tr>\n",
       "      <th>0</th>\n",
       "      <td>1</td>\n",
       "      <td>Car</td>\n",
       "    </tr>\n",
       "    <tr>\n",
       "      <th>1</th>\n",
       "      <td>2</td>\n",
       "      <td>Goat</td>\n",
       "    </tr>\n",
       "    <tr>\n",
       "      <th>2</th>\n",
       "      <td>3</td>\n",
       "      <td>Goat</td>\n",
       "    </tr>\n",
       "  </tbody>\n",
       "</table>\n",
       "</div>"
      ],
      "text/plain": [
       "   Door Reward\n",
       "0     1    Car\n",
       "1     2   Goat\n",
       "2     3   Goat"
      ]
     },
     "execution_count": 1,
     "metadata": {},
     "output_type": "execute_result"
    }
   ],
   "source": [
    "# Random Data Generation Example\n",
    "# The code in this cell describes how I'm generating and playing the game show scenario\n",
    "\n",
    "import pandas as pd\n",
    "import random\n",
    "\n",
    "df = pd.DataFrame([1,2,3], columns = [\"Door\"])\n",
    "df[\"Reward\"] = random.sample([\"Goat\",\"Goat\", \"Car\"], 3)\n",
    "\n",
    "# Randomly selecting a door\n",
    "SelectionDoor = random.randint(1,3)\n",
    "\n",
    "# Randomly revealing a door with a goat\n",
    "GoatDoor = int(df[(df[\"Reward\"]==\"Goat\") & (df[\"Door\"] != SelectionDoor)][\"Door\"].sample(n=1))\n",
    "\n",
    "# Assigning the remaining door\n",
    "RemainingDoor = int(df[(df[\"Door\"]!= GoatDoor) & (df[\"Door\"] != SelectionDoor)][\"Door\"])\n",
    "\n",
    "print(\"Selected Door:\", SelectionDoor)\n",
    "print(\"Revealed Door:\", GoatDoor)\n",
    "print(\"Remaining Door:\", RemainingDoor)\n",
    "df"
   ]
  },
  {
   "cell_type": "code",
   "execution_count": 2,
   "metadata": {},
   "outputs": [],
   "source": [
    "# Simulation over 1000 trials\n",
    "\n",
    "n = 1000\n",
    "good_switch = []\n",
    "\n",
    "for i in range (n):\n",
    "    \n",
    "    # Random Data Generation as shown in the example cell\n",
    "    df = pd.DataFrame([1,2,3], columns = [\"Door\"])\n",
    "    df[\"Reward\"] = random.sample([\"Goat\",\"Goat\", \"Car\"], 3)\n",
    "    \n",
    "    # Randomly selecting a door, revealing a goat door and then identifying the remaining door as shown in the example cell\n",
    "    SelectionDoor = random.randint(1,3)\n",
    "    GoatDoor = int(df[(df[\"Reward\"]==\"Goat\") & (df[\"Door\"] != SelectionDoor)][\"Door\"].sample(n=1))\n",
    "    RemainingDoor = int(df[(df[\"Door\"]!= GoatDoor) & (df[\"Door\"] != SelectionDoor)][\"Door\"])\n",
    "\n",
    "    # Comparison of whether a switch would yield a good result\n",
    "    if df.loc[df[\"Door\"] == RemainingDoor][\"Reward\"].values[0] == \"Car\":\n",
    "        # A switch would have yielded positive results\n",
    "        good_switch.append([i,\"Yes\"])\n",
    "    else:\n",
    "        # A switch would have yielded negative results\n",
    "        good_switch.append([i,\"No\"])"
   ]
  },
  {
   "cell_type": "code",
   "execution_count": 5,
   "metadata": {},
   "outputs": [
    {
     "data": {
      "text/plain": [
       "<matplotlib.text.Text at 0xa3026d8>"
      ]
     },
     "execution_count": 5,
     "metadata": {},
     "output_type": "execute_result"
    },
    {
     "data": {
      "image/png": "[encoded data removed]",
      "text/plain": [
       "<matplotlib.figure.Figure at 0x90a43c8>"
      ]
     },
     "metadata": {},
     "output_type": "display_data"
    }
   ],
   "source": [
    "# Visualizing the data\n",
    "import matplotlib.pyplot as plt\n",
    "%matplotlib inline\n",
    "\n",
    "# Plotting the result\n",
    "dfResults = pd.DataFrame(data = good_switch, columns = [\"Trial\", \"Switch would have yielded car\"])\n",
    "dfResults.groupby(\"Switch would have yielded car\").count().plot(kind='bar', legend = False)\n",
    "plt.ylabel(\"Count of occurences\")\n",
    "plt.xlabel(\"Would switching have yielded a car?\")\n",
    "plt.title(\"Monty Hall Simultation (Number of Trials = 1000)\")"
   ]
  },
  {
   "cell_type": "markdown",
   "metadata": {},
   "source": [
    "# From the visualization above, we see that when a contestant is asked whether he or she would like to switch doors, the switch would have yielded a car approximately twice as often as not switching."
   ]
  }
 ],
 "metadata": {
  "anaconda-cloud": {},
  "kernelspec": {
   "display_name": "Python 3",
   "language": "python",
   "name": "python3"
  },
  "language_info": {
   "codemirror_mode": {
    "name": "ipython",
    "version": 3
   },
   "file_extension": ".py",
   "mimetype": "text/x-python",
   "name": "python",
   "nbconvert_exporter": "python",
   "pygments_lexer": "ipython3",
   "version": "3.6.1"
  }
 },
 "nbformat": 4,
 "nbformat_minor": 1
}
